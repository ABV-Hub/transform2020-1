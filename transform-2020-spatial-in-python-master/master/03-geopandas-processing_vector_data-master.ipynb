{
 "cells": [
  {
   "cell_type": "markdown",
   "metadata": {},
   "source": [
    "# Spatial Operations in Geopandas\n",
    "\n",
    "DATE: 11 June 2020, 18:00 - 21:00 UTC\n",
    "\n",
    "AUDIENCE: Intermediate\n",
    "\n",
    "INSTRUCTOR: Martin Bentley, Digital Geoscientist, [Agile](https://agilescientific.com/)\n",
    "\n",
    "Importing and plotting vector data is all well and good, but we want to be able to do other things as well, like relating one dataset to another.\n",
    "\n",
    "This notebook covers selection of features via some spatial relationships between different GeoDataFrames and selecting the data that we are interested in. There is also some code given for plotting rose diagrams (adapted from Bruno Ruas de Pinho's [post](http://geologyandpython.com/structural_geology.html)), which may be of interest."
   ]
  },
  {
   "cell_type": "code",
   "execution_count": null,
   "metadata": {},
   "outputs": [],
   "source": [
    "import geopandas as gpd\n",
    "import pandas as pd\n",
    "import matplotlib.pyplot as plt\n",
    "import numpy as np"
   ]
  },
  {
   "cell_type": "code",
   "execution_count": null,
   "metadata": {},
   "outputs": [],
   "source": [
    "plt.rcParams[\"figure.figsize\"] = (8, 8)"
   ]
  },
  {
   "cell_type": "markdown",
   "metadata": {},
   "source": [
    "We are going to work with the runways located in South Africa, downloaded from OpenStreetMap. We will also load the outlines of each province from the Natural Earth dataset, and extract the South African ones. (Note: if you are actually working in South Africa, you should avoid these: they are very out of date now.)"
   ]
  },
  {
   "cell_type": "code",
   "execution_count": null,
   "metadata": {},
   "outputs": [],
   "source": [
    "za_runways = gpd.read_file('../data/south_africa_runways.gpkg')\n",
    "provinces = gpd.read_file('zip://../data/ne_10m_admin_1_states_provinces.zip')\n",
    "za_provinces = provinces[provinces['adm0_a3'] == 'ZAF']"
   ]
  },
  {
   "cell_type": "markdown",
   "metadata": {},
   "source": [
    "The `bearing_360` field in the runway dataset contains the direction each line that makes up a runway is pointing, which might be useful."
   ]
  },
  {
   "cell_type": "markdown",
   "metadata": {},
   "source": [
    "A rose diagram is quite a nice way to visualise this sort of data (anyone who has done a structural geology course will be familiar with these for various strutural readings, and they are commonly used for wind direction as well).\n",
    "\n",
    "The easiest way to get a set of bins is by using the `histogram()` method from `numpy`. This returns two arrays: one with the value in each bin, and one with the edge of each bin. We will use 36 bins (so each is 10 degrees)."
   ]
  },
  {
   "cell_type": "code",
   "execution_count": null,
   "metadata": {
    "scrolled": false
   },
   "outputs": [],
   "source": [
    "bin_width_degrees = 10\n",
    "bin_edges = np.arange(-5, 366, bin_width_degrees)\n",
    "hist_counts, bin_edges = np.histogram(za_runways['bearing_360'], bin_edges)\n",
    "print(f'Hist counts: {hist_counts}\\nEdges: {bin_edges}')\n",
    "\n",
    "print(list(hist_counts[:18]))\n",
    "print(list(reversed(hist_counts[18:])))"
   ]
  },
  {
   "cell_type": "markdown",
   "metadata": {},
   "source": [
    "We know that the first and last bins are the same (that is, bin 1 has edges at [-5, 5] and the last bin has edges [355, 365]), so we will make sure that we add those counts together. Then we can split the list in half before summing the counts from opposite bins."
   ]
  },
  {
   "cell_type": "code",
   "execution_count": null,
   "metadata": {},
   "outputs": [],
   "source": [
    "hist_counts[0] += hist_counts[-1]  # sum counts of first and last bins\n",
    "\n",
    "half = np.sum(np.split(hist_counts[:-1], 2), 0)\n",
    "two_halves = np.concatenate([half, half])\n",
    "print(len(two_halves))\n",
    "print(hist_counts)\n",
    "print(two_halves)\n",
    "print(list(two_halves[:18]))\n",
    "print(list(two_halves[18:]))"
   ]
  },
  {
   "cell_type": "markdown",
   "metadata": {},
   "source": [
    "These get used for the the parameters to the polar plot. `theta` is the centre of each bin, `radii` is the height of each bin, and `width` is how wide each bin needs to be."
   ]
  },
  {
   "cell_type": "code",
   "execution_count": null,
   "metadata": {},
   "outputs": [],
   "source": [
    "theta = np.linspace(0, 2 * np.pi, 36, endpoint=True)\n",
    "radii = two_halves\n",
    "width = np.radians(bin_width_degrees)"
   ]
  },
  {
   "cell_type": "markdown",
   "metadata": {},
   "source": [
    "Finally, we can set up the plot. Note the addition of `polar` to the `projection` parameter. This is what tells matplotlib that we want a circular plot. By using `set_theta_offset` and `set_theta_direction` we can get 0 at the top and 90 to the right, as we expect from a compass. The grid can be altered using `set_theta_grids` and `set_rgrids` for the spokes and the rings respectively."
   ]
  },
  {
   "cell_type": "code",
   "execution_count": null,
   "metadata": {},
   "outputs": [],
   "source": [
    "fig = plt.figure()\n",
    "ax = fig.add_subplot(111, projection='polar')\n",
    "ax.bar(theta, radii, \n",
    "       width=width, bottom=0.0, edgecolor='k')\n",
    "ax.set_theta_zero_location('N')\n",
    "ax.set_theta_direction(-1)\n",
    "ax.set_thetagrids(np.arange(0, 360, 10), labels=np.arange(0, 360, 10))\n",
    "ax.set_rgrids(np.arange(0, radii.max() + 5, 5), angle=0)\n",
    "ax.set_title('Directions of South African runways')"
   ]
  },
  {
   "cell_type": "markdown",
   "metadata": {},
   "source": [
    "## Spatial Selections\n",
    "This is useful, but it covers the entire country. If we want to look at each province in turn, because there may be differences, we can select only things in the province.\n",
    "\n",
    "We will use the `within` function to see if a feature is within another. This returns a boolean (True/False) that we can use to select only the features for which this is true. There are a few of these worth noting:\n",
    "* `contains` is the opposite of `within`, and is True for features that entirely contain a given geometry.\n",
    "* `intersects` is true if the interior and interior of the two objects overlap.\n",
    "* `touches` is true if at least one point is in common and interiors do not intersect.\n",
    "\n",
    "In addition to these, most other spatial operations that are present in standard GIS software are available."
   ]
  },
  {
   "cell_type": "markdown",
   "metadata": {},
   "source": [
    "First, we will select the province of KwaZulu-Natal and the runways within it, and then plot them."
   ]
  },
  {
   "cell_type": "code",
   "execution_count": null,
   "metadata": {},
   "outputs": [],
   "source": [
    "kzn = za_provinces[za_provinces['iso_3166_2'] == 'ZA-NL']\n",
    "kzn_runways = za_runways[za_runways.within(kzn.geometry.unary_union)]"
   ]
  },
  {
   "cell_type": "code",
   "execution_count": null,
   "metadata": {},
   "outputs": [],
   "source": []
  },
  {
   "cell_type": "code",
   "execution_count": null,
   "metadata": {
    "tags": [
     "hide"
    ]
   },
   "outputs": [],
   "source": [
    "print(f'All runways: {za_runways.shape}\\nKZN runways: {kzn_runways.shape}')"
   ]
  },
  {
   "cell_type": "code",
   "execution_count": null,
   "metadata": {},
   "outputs": [],
   "source": []
  },
  {
   "cell_type": "code",
   "execution_count": null,
   "metadata": {
    "tags": [
     "hide"
    ]
   },
   "outputs": [],
   "source": [
    "base = za_provinces.plot(color='lightgrey', edgecolor='darkgrey')\n",
    "kzn_runways.centroid.plot(ax=base, color='black', alpha=0.3)\n",
    "base.set_ylim(-35.2, -21.8)  # These limits are to ignore the Gough Islands\n",
    "base.set_xlim(16, 33.2)  # These limits are to ignore the Gough Islands"
   ]
  },
  {
   "cell_type": "markdown",
   "metadata": {},
   "source": [
    "We can see that this has only extracted values within the province's boundaries. We needed the `unary_union` because the geometry is that of a multipolygon."
   ]
  },
  {
   "cell_type": "markdown",
   "metadata": {},
   "source": [
    "## Exercise 1\n",
    "\n",
    "1. Convert the above code to a function for creating a rose diagram given a geoDataFrame\n",
    "    1. Test it on the extracted runway directions in KZN.\n",
    "2. Write a function that generates a rose diagram for each province. The easiest approach is to wrap the previous function. (Hint: you may find the `iterrows()` method that (geo)DataFrames have useful.)"
   ]
  },
  {
   "cell_type": "code",
   "execution_count": null,
   "metadata": {},
   "outputs": [],
   "source": [
    "# Write a function to plot a rose diagram.\n",
    "def rose_diagram(bearings, title='Rose Diagram', degrees_in_bin=10):\n",
    "    bin_width_degrees = degrees_in_bin\n",
    "    num_bins = int(round(360 / degrees_in_bin, 0))\n",
    "    \n",
    "    bin_edges = np.arange(-5, 366, bin_width_degrees)\n",
    "    hist_counts, bin_edges = np.histogram(bearings, bin_edges)\n",
    "    \n",
    "    hist_counts[0] += hist_counts[-1]  # sum counts of first and last bins\n",
    "\n",
    "    half = np.sum(np.split(hist_counts[:-1], 2), 0)\n",
    "    two_halves = np.concatenate([half, half])\n",
    "    \n",
    "    theta = np.linspace(0, 2 * np.pi, num_bins, endpoint=True)\n",
    "    radii = two_halves\n",
    "    width = np.radians(bin_width_degrees)\n",
    "    \n",
    "    fig = plt.figure()\n",
    "    ax = fig.add_subplot(111, projection='polar')\n",
    "    ax.bar(theta, radii, \n",
    "           width=width, bottom=0.0, edgecolor='k')\n",
    "    ax.set_theta_zero_location('N')\n",
    "    ax.set_theta_direction(-1)\n",
    "    ax.set_thetagrids(np.arange(0, 360, 10), labels=np.arange(0, 360, 10))\n",
    "    ax.set_rgrids(np.arange(0, radii.max() + 5, 5), angle=0)\n",
    "    ax.set_title(title)"
   ]
  },
  {
   "cell_type": "code",
   "execution_count": null,
   "metadata": {},
   "outputs": [],
   "source": [
    "# Test the function on the runways in KwaZulu-Natal.\n"
   ]
  },
  {
   "cell_type": "code",
   "execution_count": null,
   "metadata": {
    "tags": [
     "hide"
    ]
   },
   "outputs": [],
   "source": [
    "# Test the function on the runways in KwaZulu-Natal.\n",
    "rose_diagram(kzn_runways['bearing'], 'Direction of runways in KZN')"
   ]
  },
  {
   "cell_type": "code",
   "execution_count": null,
   "metadata": {},
   "outputs": [],
   "source": [
    "# Plot a rose diagram for each province.\n",
    "\n",
    "\n"
   ]
  },
  {
   "cell_type": "code",
   "execution_count": null,
   "metadata": {
    "tags": [
     "hide"
    ]
   },
   "outputs": [],
   "source": [
    "# Plot a rose diagram for each province.\n",
    "for index, province in za_provinces.iterrows():\n",
    "    province_runways = za_runways[za_runways.within(province.geometry)]\n",
    "    rose_diagram(province_runways['bearing_360'], f'Direction of runways in {province[\"name\"]}')"
   ]
  },
  {
   "cell_type": "markdown",
   "metadata": {},
   "source": [
    "## Spatial Relationships\n",
    "\n",
    "Now we will take a look at a few places in KZN, and get an idea of some spatial relationships between towns/cities and runways."
   ]
  },
  {
   "cell_type": "code",
   "execution_count": null,
   "metadata": {},
   "outputs": [],
   "source": [
    "za_places = gpd.read_file(\"../data/south_africa_places.gpkg\")"
   ]
  },
  {
   "cell_type": "markdown",
   "metadata": {},
   "source": [
    "We can now look at how many airports are located within a certain range of a given town. First we will choose our town, then create a buffer around, and see how many fall into that range. I am going to look at Durban, the largest city in KZN."
   ]
  },
  {
   "cell_type": "code",
   "execution_count": null,
   "metadata": {},
   "outputs": [],
   "source": []
  },
  {
   "cell_type": "code",
   "execution_count": null,
   "metadata": {
    "tags": [
     "hide"
    ]
   },
   "outputs": [],
   "source": [
    "durban = za_places[za_places['name'] == 'Durban']\n",
    "print(durban.geometry)\n",
    "durban"
   ]
  },
  {
   "cell_type": "markdown",
   "metadata": {},
   "source": [
    "Geopandas gives us some useful and common tools straight away, such as a buffer. We can easily put a circle around a given geometry."
   ]
  },
  {
   "cell_type": "code",
   "execution_count": null,
   "metadata": {},
   "outputs": [],
   "source": []
  },
  {
   "cell_type": "code",
   "execution_count": null,
   "metadata": {
    "tags": [
     "hide"
    ]
   },
   "outputs": [],
   "source": [
    "base = kzn.plot(color='lightgrey')\n",
    "durban.buffer(1).plot(ax=base, alpha=0.5)\n",
    "durban.plot(ax=base, zorder=4, color='red')"
   ]
  },
  {
   "cell_type": "markdown",
   "metadata": {},
   "source": [
    "That looks a little big, given that our buffer was only `1`. If we look at the CRS of the place data, we can see that it works in degrees, so the buffer is one degree in each direction.We should convert this to a projected system that uses metres if we want to measure meaningful distances. We will try EPSG 3857, which uses metres as a unit of measure. (For our purposes, it is accurate enough, but if you need distances in a critical use-case, then you should use something more focused on your area of interest.)\n",
    "\n",
    "For smaller areas, a relevant UTM projection is good. Some countries also have well-defined ones of their own. https://gist.github.com/gubuntu/6403425 is of interest for Southern Africa generally. KZN is a little too big to fit into one UTM zone."
   ]
  },
  {
   "cell_type": "code",
   "execution_count": null,
   "metadata": {},
   "outputs": [],
   "source": []
  },
  {
   "cell_type": "code",
   "execution_count": null,
   "metadata": {
    "tags": [
     "hide"
    ]
   },
   "outputs": [],
   "source": [
    "kzn_runways_proj = kzn_runways.to_crs(epsg=3857)\n",
    "kzn_proj = kzn.to_crs(epsg=3857)\n",
    "durban_proj = durban.to_crs(epsg=3857)"
   ]
  },
  {
   "cell_type": "markdown",
   "metadata": {},
   "source": [
    "Notice how this also changes our axes when plotting:\n",
    "(We are plotting the centroid of each runway line here, to make the position more visible.)"
   ]
  },
  {
   "cell_type": "code",
   "execution_count": null,
   "metadata": {},
   "outputs": [],
   "source": []
  },
  {
   "cell_type": "code",
   "execution_count": null,
   "metadata": {
    "tags": [
     "hide"
    ]
   },
   "outputs": [],
   "source": [
    "base = kzn_proj.plot(color='lightgrey')\n",
    "durban_proj.buffer(100_000).plot(ax=base, alpha=0.5)  # 100 000m is 100km\n",
    "durban_proj.plot(ax=base, zorder=4, color='red')\n",
    "kzn_runways_proj.centroid.plot(ax=base)"
   ]
  },
  {
   "cell_type": "markdown",
   "metadata": {},
   "source": [
    "Now we can use that buffer and select only the runways within that buffer."
   ]
  },
  {
   "cell_type": "code",
   "execution_count": null,
   "metadata": {},
   "outputs": [],
   "source": []
  },
  {
   "cell_type": "code",
   "execution_count": null,
   "metadata": {
    "tags": [
     "hide"
    ]
   },
   "outputs": [],
   "source": [
    "durban_proj_buffer = durban_proj.buffer(100_000)\n",
    "near_durban = kzn_runways_proj[kzn_runways_proj.within(durban_proj_buffer.unary_union)]"
   ]
  },
  {
   "cell_type": "markdown",
   "metadata": {},
   "source": [
    "We can now plot only those runways that fall within the buffer."
   ]
  },
  {
   "cell_type": "code",
   "execution_count": null,
   "metadata": {},
   "outputs": [],
   "source": [
    "fig, ax = plt.subplots()\n",
    "kzn_proj.plot(ax=ax, color='lightgrey')\n",
    "near_durban.centroid.plot(ax=ax)\n",
    "durban_proj_buffer.plot(ax=ax, alpha=0.3)\n",
    "durban_proj.plot(ax=ax, color='red')"
   ]
  },
  {
   "cell_type": "markdown",
   "metadata": {},
   "source": [
    "## Distances and Nearest Neighbours\n",
    "\n",
    "If we are interested in the distance to the nearest runway from one of our towns, we can write a short function that returns this value. A GeoDataFrame has a `distance` method that will work between any two geometries. Since we want to do it for a number of them in one go, we have to write a function to do it."
   ]
  },
  {
   "cell_type": "code",
   "execution_count": null,
   "metadata": {},
   "outputs": [],
   "source": []
  },
  {
   "cell_type": "code",
   "execution_count": null,
   "metadata": {
    "tags": [
     "hide"
    ]
   },
   "outputs": [],
   "source": [
    "def min_distance(point, destination):\n",
    "    '''\n",
    "    Takes a point and then returns the nearest destination. \n",
    "    Expects to be working with metres as a unit of measure and returns a distance in km.\n",
    "    '''\n",
    "    return destination.distance(point).min() / 1000"
   ]
  },
  {
   "cell_type": "markdown",
   "metadata": {},
   "source": [
    "The paradigm in pandas is to use `apply` which performs the same function on each row in a dataframe.\n",
    "\n",
    "Since we know that the nearest runway will be one of the ones that we previously identified as being within the buffer zone, we will just use that. We could give it the whole dataset and get the same result, but this will be slightly quicker.\n",
    "\n",
    "The final comma in `args=(near_durban,)` is important."
   ]
  },
  {
   "cell_type": "code",
   "execution_count": null,
   "metadata": {},
   "outputs": [],
   "source": []
  },
  {
   "cell_type": "code",
   "execution_count": null,
   "metadata": {
    "scrolled": true,
    "tags": [
     "hide"
    ]
   },
   "outputs": [],
   "source": [
    "durban_proj.geometry.apply(min_distance, args=(near_durban,))"
   ]
  },
  {
   "cell_type": "markdown",
   "metadata": {},
   "source": [
    "## Exercise 3\n",
    "\n",
    "1. What is the distance to the centre of the closest town to the runway with the `osm_id` of 87323625?\n",
    "2. What is the distance from Durban to the furtherest town in South Africa? (Hint: you will need to modify the `nearest_neighbour` function to a `max_distance` version. Pay attention to the CRS.)"
   ]
  },
  {
   "cell_type": "code",
   "execution_count": null,
   "metadata": {},
   "outputs": [],
   "source": [
    "# What is the distance to the centre of the closest town to the runway with the osm_id of 87323625?\n",
    "\n"
   ]
  },
  {
   "cell_type": "code",
   "execution_count": null,
   "metadata": {
    "tags": [
     "hide"
    ]
   },
   "outputs": [],
   "source": [
    "# What is the distance to the centre of the closest town to the runway with the osm_id of 87323625?\n",
    "runway87323625 = kzn_runways_proj[kzn_runways_proj['osm_id'] == '6211489']\n",
    "runway87323625.geometry.apply(min_distance, args=(za_places.to_crs(epsg=3857),))"
   ]
  },
  {
   "cell_type": "code",
   "execution_count": null,
   "metadata": {},
   "outputs": [],
   "source": [
    "# What is the distance from Durban to the furtherest town in South Africa?\n",
    "\n",
    "\n",
    "\n"
   ]
  },
  {
   "cell_type": "code",
   "execution_count": null,
   "metadata": {
    "tags": [
     "hide"
    ]
   },
   "outputs": [],
   "source": [
    "# What is the distance from Durban to the furtherest town in South Africa?\n",
    "def max_distance(point, destination):\n",
    "    return destination.distance(point).max() / 1000\n",
    "\n",
    "durban_proj.geometry.apply(max_distance, args=(za_places.to_crs(epsg=3857),))"
   ]
  },
  {
   "cell_type": "markdown",
   "metadata": {},
   "source": [
    "## Multiple points\n",
    "\n",
    "We can also use the `nearest_neighbours` function applied to every feature. This can be used for example, to classify the runways by what the closest town or city to them is.\n",
    "\n",
    "First we will limit our analysis to towns in KwaZulu-Natal."
   ]
  },
  {
   "cell_type": "code",
   "execution_count": null,
   "metadata": {},
   "outputs": [],
   "source": [
    "kzn_places = za_places[za_places.within(kzn.geometry.unary_union)]\n",
    "kzn_places_proj = kzn_places.to_crs(epsg=3857)"
   ]
  },
  {
   "cell_type": "code",
   "execution_count": null,
   "metadata": {},
   "outputs": [],
   "source": [
    "base = kzn_proj.plot(color='lightgrey')\n",
    "kzn_runways_proj.centroid.plot(ax=base)\n",
    "kzn_places_proj.plot(ax=base, color='red', marker='+')"
   ]
  },
  {
   "cell_type": "markdown",
   "metadata": {},
   "source": [
    "Using the `apply` function on the whole GeoDataFrame will get us a result for all the features. We can use that to populate a new column in the runway dataset with the minimum distance to a town or city in the places dataset."
   ]
  },
  {
   "cell_type": "code",
   "execution_count": null,
   "metadata": {},
   "outputs": [],
   "source": [
    "kzn_runways_proj['min_dist_to_place'] = kzn_runways_proj.geometry.apply(min_distance, args=(kzn_places_proj,))\n",
    "kzn_runways_proj['min_dist_to_place'].describe()"
   ]
  },
  {
   "cell_type": "markdown",
   "metadata": {},
   "source": [
    "The runways end up plotting very small at province-wide scale, so we will change the geometry to be a Point instead. The easiest way is to obtain the centroid of each runway."
   ]
  },
  {
   "cell_type": "code",
   "execution_count": null,
   "metadata": {},
   "outputs": [],
   "source": [
    "kzn_runways_proj['line_geom'] = kzn_runways_proj.geometry\n",
    "kzn_runways_proj['geometry'] = kzn_runways_proj.centroid\n",
    "kzn_runways_proj.geometry"
   ]
  },
  {
   "cell_type": "markdown",
   "metadata": {},
   "source": [
    "Using the `scheme` parameter, we can also take a column and group the values using `mapclassify` options."
   ]
  },
  {
   "cell_type": "code",
   "execution_count": null,
   "metadata": {},
   "outputs": [],
   "source": [
    "base = kzn_proj.plot(color='lightgrey')\n",
    "kzn_runways_proj.plot(ax=base, column='min_dist_to_place', legend=True, scheme='EqualInterval', k=7)\n",
    "kzn_places_proj.plot(ax=base, color='red', marker='+')"
   ]
  },
  {
   "cell_type": "markdown",
   "metadata": {},
   "source": [
    "## Exercise\n",
    "\n",
    "1. Plot the towns and cities in KwaZulu-Natal coloured by the distance from Durban."
   ]
  },
  {
   "cell_type": "code",
   "execution_count": null,
   "metadata": {},
   "outputs": [],
   "source": [
    "\n",
    "\n",
    "\n",
    "\n"
   ]
  },
  {
   "cell_type": "code",
   "execution_count": null,
   "metadata": {
    "tags": [
     "hide"
    ]
   },
   "outputs": [],
   "source": [
    "kzn_durban = kzn_places_proj.copy()\n",
    "kzn_durban['dist_durban'] = kzn_places_proj.geometry.apply(min_distance, args=(durban_proj,))\n",
    "base = kzn_proj.plot(color='lightblue', edgecolor='black')\n",
    "kzn_durban.plot(ax=base, column='dist_durban', scheme='jenkscaspallforced', k=6, legend=True, cmap='Reds_r', marker='+')\n",
    "durban_proj.plot(ax=base, color='red')"
   ]
  },
  {
   "cell_type": "markdown",
   "metadata": {},
   "source": [
    "## More Information from Neighbours\n",
    "\n",
    "So far we have only been able to obtain the distance to the nearest neighbour, but nothing else from the second GeoDataFrame.\n",
    "\n",
    "We need a new function that can get the nearest points to a given geometry. To do that we will use an operation imported from the `shapely` module."
   ]
  },
  {
   "cell_type": "code",
   "execution_count": null,
   "metadata": {},
   "outputs": [],
   "source": [
    "from shapely.ops import nearest_points\n",
    "\n",
    "def calculate_nearest(row, destination, val, col=\"geometry\"):\n",
    "    ''' Returns the value from a given column for the nearest feature\n",
    "        of the `destination` GeoDataFrame.\n",
    "        \n",
    "        row: The object of interest\n",
    "        destination: GeoDataFrame of possible locations, of which one is the closest.\n",
    "        val: The column containing the values which the destination will give back.\n",
    "        col: If your row's geometry is not `geometry`, change it here.\n",
    "        \n",
    "        returns: The value of the `val` column of the feature nearest to `row`.\n",
    "    '''\n",
    "    dest_unary = destination[\"geometry\"].unary_union\n",
    "    nearest_geom = nearest_points(row[col], dest_unary)\n",
    "    match_geom = destination.loc[destination.geometry == nearest_geom[1]]\n",
    "    match_value = match_geom[val].to_numpy()[0]\n",
    "    return match_value"
   ]
  },
  {
   "cell_type": "markdown",
   "metadata": {},
   "source": [
    "This function allows us to ask for specific values back about the nearest object. Again, we will find the nearest place to each runway, but we will request the `name` of that place and save it as a column in the runways GeoDataFrame."
   ]
  },
  {
   "cell_type": "code",
   "execution_count": null,
   "metadata": {},
   "outputs": [],
   "source": [
    "\n"
   ]
  },
  {
   "cell_type": "code",
   "execution_count": null,
   "metadata": {},
   "outputs": [],
   "source": [
    "kzn_runways_proj[\"nearest_place_name\"] = kzn_runways_proj.apply(\n",
    "    calculate_nearest, destination=kzn_places_proj, val=\"name\", axis=1)"
   ]
  },
  {
   "cell_type": "code",
   "execution_count": null,
   "metadata": {},
   "outputs": [],
   "source": [
    "kzn_runways_proj[\"nearest_place_name\"].head(10)"
   ]
  },
  {
   "cell_type": "markdown",
   "metadata": {},
   "source": [
    "We can now plot these and get an idea of where the nearest urban centre to each runway is."
   ]
  },
  {
   "cell_type": "code",
   "execution_count": null,
   "metadata": {},
   "outputs": [],
   "source": [
    "fig, ax = plt.subplots(figsize=(10,10))\n",
    "kzn_proj.plot(ax=ax, zorder=-4, color='lightgrey')\n",
    "kzn_places_proj.plot(ax=ax, color='black', marker='+',)\n",
    "kzn_runways_proj.plot(ax=ax, column='nearest_place_name', legend=True, cmap='tab20b')\n",
    "ax.set_title('Nearest major place to runways in KZN')\n",
    "ax.set_xlim(xmin=kzn_proj.total_bounds[0] - 10_000, xmax=kzn_proj.total_bounds[2] + 135_000)"
   ]
  },
  {
   "cell_type": "markdown",
   "metadata": {},
   "source": [
    "## Exercise 3\n",
    "\n",
    "1. Is there a spatial trend in the bearing of runways in KZN? Plot the position of each runway and colour them by bearing.\n",
    "2. Plot the runways within 150km of Pietermaritzburg and colour them by runway length. This plot should only cover 150km of Pietermaritzburg."
   ]
  },
  {
   "cell_type": "code",
   "execution_count": null,
   "metadata": {},
   "outputs": [],
   "source": [
    "# Is there a spatial trend in the bearing of runways in KZN?\n",
    "# Plot the posiiton of each runway and colour them by bearing.\n",
    "\n",
    "\n",
    "\n"
   ]
  },
  {
   "cell_type": "code",
   "execution_count": null,
   "metadata": {
    "tags": [
     "hide"
    ]
   },
   "outputs": [],
   "source": [
    "# Is there a spatial trend in the bearing of runways in KZN?\n",
    "# Plot the posiiton of each runway and colour them by bearing.\n",
    "fig, ax = plt.subplots(figsize=(10,10))\n",
    "kzn_proj.plot(ax=ax, zorder=-4, color='lightgrey')\n",
    "kzn_runways_proj.plot(ax=ax, column='bearing', legend=True, scheme='EqualInterval')\n",
    "#kzn_places_proj.plot(ax=ax, color='black')\n",
    "ax.set_title('Bearing of runways in KZN')"
   ]
  },
  {
   "cell_type": "code",
   "execution_count": null,
   "metadata": {},
   "outputs": [],
   "source": [
    "# Plot the runways within 150km of Pietermaritzburg and colour them by runway length.\n",
    "# This plot should only cover 150km of Pietermaritzburg.\n",
    "\n"
   ]
  },
  {
   "cell_type": "code",
   "execution_count": null,
   "metadata": {
    "tags": [
     "hide"
    ]
   },
   "outputs": [],
   "source": [
    "# Plot the runways within 150km of Pietermaritzburg and colour them by runway length.\n",
    "# This plot should only cover 150km of Pietermaritzburg.\n",
    "pmb_buffer = kzn_places_proj[kzn_places_proj['name'] == 'Pietermaritzburg'].buffer(150_000)\n",
    "kzn_runways_proj[kzn_runways_proj.within(pmb_buffer.geometry.unary_union)].plot(column='length')"
   ]
  },
  {
   "cell_type": "markdown",
   "metadata": {},
   "source": [
    "<hr />\n",
    "<img src=\"https://avatars1.githubusercontent.com/u/1692321?v=3&s=200\" style=\"float:center\" width=\"40px\" />\n",
    "<p><center>© 2020 <a href=\"http://www.agilegeoscience.com/\">Agile Geoscience</a> — <a href=\"https://creativecommons.org/licenses/by/4.0/\">CC-BY</a></center></p>"
   ]
  }
 ],
 "metadata": {
  "celltoolbar": "Tags",
  "kernelspec": {
   "display_name": "Python 3",
   "language": "python",
   "name": "python3"
  },
  "language_info": {
   "codemirror_mode": {
    "name": "ipython",
    "version": 3
   },
   "file_extension": ".py",
   "mimetype": "text/x-python",
   "name": "python",
   "nbconvert_exporter": "python",
   "pygments_lexer": "ipython3",
   "version": "3.8.3"
  }
 },
 "nbformat": 4,
 "nbformat_minor": 4
}
